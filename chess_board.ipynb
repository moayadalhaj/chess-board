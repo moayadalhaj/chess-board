{
 "cells": [
  {
   "cell_type": "code",
   "execution_count": 57,
   "metadata": {},
   "outputs": [],
   "source": [
    "%matplotlib inline\n",
    "import numpy as np\n",
    "import matplotlib.pyplot as plt"
   ]
  },
  {
   "cell_type": "markdown",
   "metadata": {},
   "source": [
    "Define a ChessBoard class - should contain an 8x8 grid - Each cell in grid should have a color represented in RGB format. \n",
    "- black = (0,0,0) \n",
    "- white = (1,1,1) \n",
    "- blue = (0,1,1) \n",
    "- red = (1,.2,0)\n",
    "- should have add_red method that accepts a row and column as input which colors corresponding cell.\n",
    "- should have add_blue method that accepts a row and column as input which colors corresponding cell.\n",
    "- should have render method that displays the chess board on screen with red and blue shown in correct locations\n",
    "- should have is_under_attack method that return boolean if red is under attack by a blue piece horizontally, vertically or diagonally"
   ]
  },
  {
   "cell_type": "code",
   "execution_count": 60,
   "metadata": {},
   "outputs": [
    {
     "name": "stdout",
     "output_type": "stream",
     "text": [
      "True\n"
     ]
    },
    {
     "data": {
      "image/png": "[encoded data removed]",
      "text/plain": [
       "<Figure size 432x288 with 1 Axes>"
      ]
     },
     "metadata": {
      "needs_background": "light"
     },
     "output_type": "display_data"
    }
   ],
   "source": [
    "class ChessBoard:\n",
    "    def __init__(self):\n",
    "        self.grid=np.zeros((8,8,3))\n",
    "        for row in range(8):\n",
    "            for col in range(8):\n",
    "                if(not row%2 and not col%2) or (row%2 and col%2):\n",
    "                    self.grid[row,col]=(1,1,1)\n",
    "    \n",
    "    def render(self):\n",
    "        plt.imshow(self.grid)\n",
    "\n",
    "    def add_red(self,row,col):\n",
    "        self.grid[row,col]=(1,.2,0)\n",
    "        self.red_row=row\n",
    "        self.red_col=col\n",
    "\n",
    "    def add_blue(self,row,col):\n",
    "        self.grid[row,col]=(0,1,1)\n",
    "        self.blue_row=row\n",
    "        self.blue_col=col\n",
    "\n",
    "    def is_under_attack(self):\n",
    "        if self.red_row==self.blue_row:\n",
    "            return True\n",
    "        if self.red_col==self.blue_col:\n",
    "            return True\n",
    "        if abs(self.red_row - self.blue_row) == abs(self.red_col - self.blue_col):\n",
    "            return True\n",
    "        else:\n",
    "            return False\n",
    "\n",
    "b=ChessBoard()\n",
    "b.add_red(5,5)\n",
    "b.add_blue(3,3)\n",
    "print(b.is_under_attack())\n",
    "b.render()"
   ]
  },
  {
   "cell_type": "code",
   "execution_count": 52,
   "metadata": {},
   "outputs": [
    {
     "name": "stdout",
     "output_type": "stream",
     "text": [
      "Test is passsed\n"
     ]
    }
   ],
   "source": [
    "def test_if_queens_in_same_row():\n",
    "    expected=True\n",
    "    b=ChessBoard()\n",
    "    b.add_red(3,6)\n",
    "    b.add_blue(3,2)\n",
    "    actual= b.is_under_attack()\n",
    "    assert expected==actual\n",
    "    print('Test is passsed')\n",
    "test_if_queens_in_same_row()"
   ]
  },
  {
   "cell_type": "code",
   "execution_count": 56,
   "metadata": {},
   "outputs": [
    {
     "name": "stdout",
     "output_type": "stream",
     "text": [
      "Test is passsed\n"
     ]
    }
   ],
   "source": [
    "def test_if_queens_in_same_col():\n",
    "    expected=True\n",
    "    b=ChessBoard()\n",
    "    b.add_red(3,3)\n",
    "    b.add_blue(6,0)\n",
    "    actual= b.is_under_attack()\n",
    "    assert expected==actual\n",
    "    print('Test is passsed')\n",
    "test_if_queens_in_same_col()"
   ]
  },
  {
   "cell_type": "code",
   "execution_count": 54,
   "metadata": {},
   "outputs": [
    {
     "name": "stdout",
     "output_type": "stream",
     "text": [
      "Test is passsed\n"
     ]
    }
   ],
   "source": [
    "def test_if_queens_in_same_diagonal():\n",
    "    expected=True\n",
    "    b=ChessBoard()\n",
    "    b.add_red(4,6)\n",
    "    b.add_blue(5,5)\n",
    "    actual= b.is_under_attack()\n",
    "    assert expected==actual\n",
    "    print('Test is passsed')\n",
    "test_if_queens_in_same_row()"
   ]
  },
  {
   "cell_type": "code",
   "execution_count": 51,
   "metadata": {},
   "outputs": [
    {
     "name": "stdout",
     "output_type": "stream",
     "text": [
      "Test is passsed\n"
     ]
    }
   ],
   "source": [
    "def test_if_there_isnt_any_one_under_attack():\n",
    "    expected=False\n",
    "    b=ChessBoard()\n",
    "    b.add_red(1,1)\n",
    "    b.add_blue(5,4)\n",
    "    actual= b.is_under_attack()\n",
    "    assert expected==actual\n",
    "    print('Test is passsed')\n",
    "test_if_there_isnt_any_one_under_attack()"
   ]
  }
 ],
 "metadata": {
  "interpreter": {
   "hash": "34b04371863dbd8e9cc6e8196f4ad250ee527660ba8e639ab7fd5e7cff0263ed"
  },
  "kernelspec": {
   "display_name": "Python 3.9.5 64-bit ('.venv': poetry)",
   "name": "python3"
  },
  "language_info": {
   "codemirror_mode": {
    "name": "ipython",
    "version": 3
   },
   "file_extension": ".py",
   "mimetype": "text/x-python",
   "name": "python",
   "nbconvert_exporter": "python",
   "pygments_lexer": "ipython3",
   "version": "3.9.5"
  },
  "orig_nbformat": 4
 },
 "nbformat": 4,
 "nbformat_minor": 2
}
